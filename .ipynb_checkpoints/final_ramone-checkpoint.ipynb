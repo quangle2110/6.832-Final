{
 "cells": [
  {
   "cell_type": "markdown",
   "metadata": {},
   "source": [
    "## RAMone: a Planar Biped for Studying the Energetics of Gait\n",
    "\n",
    "RAMone, a series-elastic planar biped with knees, built to study the energetics of bipedal locomotion. RAMone is designed to achieve versatile, economical motion using lightweight legs with highly compliant joints. \n",
    "\n",
    "[1] N. Smit-Anseeuw, R. Gleason, P. Zaytsev and C. David Remy, \"RAMone: A planar biped for studying the energetics of gait,\" 2017 IEEE/RSJ International Conference on Intelligent Robots and Systems (IROS), Vancouver, BC, 2017, pp. 4090-4095\n"
   ]
  },
  {
   "cell_type": "markdown",
   "metadata": {},
   "source": [
    "## Dynamics\n",
    "\n",
    "The Schematic of RAMone - a Planar Biped for Studying the Energetics of Gait can be observed below:\n",
    "\n",
    "<p align=\"center\">\n",
    "  <img src=\"./RAMone.gif\" width=\"650\"/>\n",
    "</p>"
   ]
  },
  {
   "cell_type": "code",
   "execution_count": 9,
   "metadata": {},
   "outputs": [
    {
     "name": "stdout",
     "output_type": "stream",
     "text": [
      "The autoreload extension is already loaded. To reload it, use:\n",
      "  %reload_ext autoreload\n",
      "22\n"
     ]
    },
    {
     "ename": "SystemExit",
     "evalue": "Failure at bazel-out/k8-opt/bin/tools/install/libdrake/_virtual_includes/drake_shared_library/drake/systems/framework/vector_base.h:81 in SetFromVector(): condition 'value.rows() == size()' failed.",
     "output_type": "error",
     "traceback": [
      "An exception has occurred, use %tb to see the full traceback.\n",
      "\u001b[0;31mSystemExit\u001b[0m\u001b[0;31m:\u001b[0m Failure at bazel-out/k8-opt/bin/tools/install/libdrake/_virtual_includes/drake_shared_library/drake/systems/framework/vector_base.h:81 in SetFromVector(): condition 'value.rows() == size()' failed.\n"
     ]
    }
   ],
   "source": [
    "%load_ext autoreload\n",
    "%autoreload 2\n",
    "\n",
    "import numpy as np\n",
    "import matplotlib.pyplot as plt\n",
    "from IPython.display import HTML\n",
    "from underactuated import PlanarRigidBodyVisualizer\n",
    "\n",
    "import ramone_2d\n",
    "\n",
    "x0 = np.zeros(22)\n",
    "ramone, state_log = ramone_2d.Simulate2dRamone(x0=x0, duration=10, desired_lateral_velocity=0., print_period=1.0)\n",
    "\n",
    "print \"done\""
   ]
  },
  {
   "cell_type": "code",
   "execution_count": null,
   "metadata": {},
   "outputs": [],
   "source": [
    "# Visualize the simulation as a video\n",
    "viz = PlanarRigidBodyVisualizer(ramone, xlim=[-2, 2], ylim=[-1, 4])\n",
    "viz.fig.set_size_inches(10, 5)\n",
    "ani = viz.animate(state_log, 30, repeat=True)\n",
    "plt.close(viz.fig)\n",
    "HTML(ani.to_html5_video()) # This needs to be the last line for the video to display"
   ]
  }
 ],
 "metadata": {
  "kernelspec": {
   "display_name": "Python 2",
   "language": "python",
   "name": "python2"
  },
  "language_info": {
   "codemirror_mode": {
    "name": "ipython",
    "version": 2
   },
   "file_extension": ".py",
   "mimetype": "text/x-python",
   "name": "python",
   "nbconvert_exporter": "python",
   "pygments_lexer": "ipython2",
   "version": "2.7.12"
  }
 },
 "nbformat": 4,
 "nbformat_minor": 2
}
